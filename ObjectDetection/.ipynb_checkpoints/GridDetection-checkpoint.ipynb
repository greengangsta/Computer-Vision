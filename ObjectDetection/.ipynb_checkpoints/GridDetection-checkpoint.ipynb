{
 "cells": [
  {
   "cell_type": "code",
   "execution_count": 22,
   "metadata": {},
   "outputs": [],
   "source": [
    "import numpy as np\n",
    "import matplotlib.pyplot as plt\n",
    "import cv2"
   ]
  },
  {
   "cell_type": "code",
   "execution_count": 23,
   "metadata": {},
   "outputs": [
    {
     "data": {
      "text/plain": [
       "<matplotlib.image.AxesImage at 0x1e0e57e0748>"
      ]
     },
     "execution_count": 23,
     "metadata": {},
     "output_type": "execute_result"
    },
    {
     "data": {
      "image/png": "[encoded data removed]",
      "text/plain": [
       "<Figure size 432x288 with 1 Axes>"
      ]
     },
     "metadata": {
      "needs_background": "light"
     },
     "output_type": "display_data"
    }
   ],
   "source": [
    "flat_chess = cv2.imread('DATA/flat_chessboard.png')\n",
    "plt.imshow(flat_chess,cmap='gray')"
   ]
  },
  {
   "cell_type": "code",
   "execution_count": 24,
   "metadata": {},
   "outputs": [],
   "source": [
    "found,corners = cv2.findChessboardCorners(flat_chess,(7,7))"
   ]
  },
  {
   "cell_type": "code",
   "execution_count": 25,
   "metadata": {},
   "outputs": [
    {
     "data": {
      "text/plain": [
       "array([[[ 43.500004,  43.500004]],\n",
       "\n",
       "       [[ 87.5     ,  43.5     ]],\n",
       "\n",
       "       [[131.5     ,  43.5     ]],\n",
       "\n",
       "       [[175.5     ,  43.5     ]],\n",
       "\n",
       "       [[219.5     ,  43.5     ]],\n",
       "\n",
       "       [[263.5     ,  43.5     ]],\n",
       "\n",
       "       [[307.5     ,  43.5     ]],\n",
       "\n",
       "       [[ 43.499996,  87.50001 ]],\n",
       "\n",
       "       [[ 87.5     ,  87.5     ]],\n",
       "\n",
       "       [[131.5     ,  87.5     ]],\n",
       "\n",
       "       [[175.5     ,  87.5     ]],\n",
       "\n",
       "       [[219.5     ,  87.5     ]],\n",
       "\n",
       "       [[263.5     ,  87.5     ]],\n",
       "\n",
       "       [[307.5     ,  87.49999 ]],\n",
       "\n",
       "       [[ 43.500004, 131.5     ]],\n",
       "\n",
       "       [[ 87.5     , 131.5     ]],\n",
       "\n",
       "       [[131.5     , 131.5     ]],\n",
       "\n",
       "       [[175.5     , 131.5     ]],\n",
       "\n",
       "       [[219.5     , 131.5     ]],\n",
       "\n",
       "       [[263.5     , 131.5     ]],\n",
       "\n",
       "       [[307.5     , 131.5     ]],\n",
       "\n",
       "       [[ 43.499996, 175.5     ]],\n",
       "\n",
       "       [[ 87.5     , 175.5     ]],\n",
       "\n",
       "       [[131.5     , 175.5     ]],\n",
       "\n",
       "       [[175.5     , 175.5     ]],\n",
       "\n",
       "       [[219.5     , 175.5     ]],\n",
       "\n",
       "       [[263.5     , 175.5     ]],\n",
       "\n",
       "       [[307.5     , 175.5     ]],\n",
       "\n",
       "       [[ 43.500004, 219.5     ]],\n",
       "\n",
       "       [[ 87.5     , 219.5     ]],\n",
       "\n",
       "       [[131.5     , 219.5     ]],\n",
       "\n",
       "       [[175.5     , 219.5     ]],\n",
       "\n",
       "       [[219.5     , 219.5     ]],\n",
       "\n",
       "       [[263.5     , 219.5     ]],\n",
       "\n",
       "       [[307.5     , 219.5     ]],\n",
       "\n",
       "       [[ 43.499996, 263.5     ]],\n",
       "\n",
       "       [[ 87.5     , 263.5     ]],\n",
       "\n",
       "       [[131.5     , 263.5     ]],\n",
       "\n",
       "       [[175.5     , 263.5     ]],\n",
       "\n",
       "       [[219.5     , 263.5     ]],\n",
       "\n",
       "       [[263.5     , 263.5     ]],\n",
       "\n",
       "       [[307.5     , 263.5     ]],\n",
       "\n",
       "       [[ 43.5     , 307.5     ]],\n",
       "\n",
       "       [[ 87.5     , 307.5     ]],\n",
       "\n",
       "       [[131.5     , 307.5     ]],\n",
       "\n",
       "       [[175.5     , 307.5     ]],\n",
       "\n",
       "       [[219.5     , 307.5     ]],\n",
       "\n",
       "       [[263.5     , 307.5     ]],\n",
       "\n",
       "       [[307.5     , 307.5     ]]], dtype=float32)"
      ]
     },
     "execution_count": 25,
     "metadata": {},
     "output_type": "execute_result"
    }
   ],
   "source": [
    "corners"
   ]
  },
  {
   "cell_type": "code",
   "execution_count": 26,
   "metadata": {},
   "outputs": [
    {
     "data": {
      "text/plain": [
       "array([[[158, 206, 255],\n",
       "        [158, 206, 255],\n",
       "        [158, 206, 255],\n",
       "        ...,\n",
       "        [ 71, 139, 209],\n",
       "        [ 71, 139, 209],\n",
       "        [ 71, 139, 209]],\n",
       "\n",
       "       [[158, 206, 255],\n",
       "        [158, 206, 255],\n",
       "        [158, 206, 255],\n",
       "        ...,\n",
       "        [ 71, 139, 209],\n",
       "        [ 71, 139, 209],\n",
       "        [ 71, 139, 209]],\n",
       "\n",
       "       [[158, 206, 255],\n",
       "        [158, 206, 255],\n",
       "        [158, 206, 255],\n",
       "        ...,\n",
       "        [ 71, 139, 209],\n",
       "        [ 71, 139, 209],\n",
       "        [ 71, 139, 209]],\n",
       "\n",
       "       ...,\n",
       "\n",
       "       [[ 71, 139, 209],\n",
       "        [ 71, 139, 209],\n",
       "        [ 71, 139, 209],\n",
       "        ...,\n",
       "        [158, 206, 255],\n",
       "        [158, 206, 255],\n",
       "        [158, 206, 255]],\n",
       "\n",
       "       [[ 71, 139, 209],\n",
       "        [ 71, 139, 209],\n",
       "        [ 71, 139, 209],\n",
       "        ...,\n",
       "        [158, 206, 255],\n",
       "        [158, 206, 255],\n",
       "        [158, 206, 255]],\n",
       "\n",
       "       [[ 71, 139, 209],\n",
       "        [ 71, 139, 209],\n",
       "        [ 71, 139, 209],\n",
       "        ...,\n",
       "        [158, 206, 255],\n",
       "        [158, 206, 255],\n",
       "        [158, 206, 255]]], dtype=uint8)"
      ]
     },
     "execution_count": 26,
     "metadata": {},
     "output_type": "execute_result"
    }
   ],
   "source": [
    "cv2.drawChessboardCorners(flat_chess,(7,7),corners,found)"
   ]
  },
  {
   "cell_type": "code",
   "execution_count": 27,
   "metadata": {},
   "outputs": [
    {
     "data": {
      "text/plain": [
       "<matplotlib.image.AxesImage at 0x1e0e8fd2d30>"
      ]
     },
     "execution_count": 27,
     "metadata": {},
     "output_type": "execute_result"
    },
    {
     "data": {
      "image/png": "[encoded data removed]",
      "text/plain": [
       "<Figure size 432x288 with 1 Axes>"
      ]
     },
     "metadata": {
      "needs_background": "light"
     },
     "output_type": "display_data"
    }
   ],
   "source": [
    "plt.imshow(flat_chess)"
   ]
  },
  {
   "cell_type": "code",
   "execution_count": 28,
   "metadata": {},
   "outputs": [],
   "source": [
    "dots = cv2.imread('DATA/dot_grid.png')"
   ]
  },
  {
   "cell_type": "code",
   "execution_count": 29,
   "metadata": {},
   "outputs": [
    {
     "data": {
      "text/plain": [
       "<matplotlib.image.AxesImage at 0x1e0e91eda58>"
      ]
     },
     "execution_count": 29,
     "metadata": {},
     "output_type": "execute_result"
    },
    {
     "data": {
      "image/png": "[encoded data removed]",
      "text/plain": [
       "<Figure size 432x288 with 1 Axes>"
      ]
     },
     "metadata": {
      "needs_background": "light"
     },
     "output_type": "display_data"
    }
   ],
   "source": [
    "plt.imshow(dots)"
   ]
  },
  {
   "cell_type": "code",
   "execution_count": 30,
   "metadata": {},
   "outputs": [],
   "source": [
    "found,corners = cv2.findCirclesGrid(dots,(10,10),cv2.CALIB_CB_SYMMETRIC_GRID)"
   ]
  },
  {
   "cell_type": "code",
   "execution_count": 31,
   "metadata": {},
   "outputs": [
    {
     "data": {
      "text/plain": [
       "True"
      ]
     },
     "execution_count": 31,
     "metadata": {},
     "output_type": "execute_result"
    }
   ],
   "source": [
    "found"
   ]
  },
  {
   "cell_type": "code",
   "execution_count": 32,
   "metadata": {},
   "outputs": [
    {
     "data": {
      "text/plain": [
       "array([[[ 29.5,  29.5]],\n",
       "\n",
       "       [[ 89.5,  29.5]],\n",
       "\n",
       "       [[149.5,  29.5]],\n",
       "\n",
       "       [[209.5,  29.5]],\n",
       "\n",
       "       [[269.5,  29.5]],\n",
       "\n",
       "       [[329.5,  29.5]],\n",
       "\n",
       "       [[389.5,  29.5]],\n",
       "\n",
       "       [[449.5,  29.5]],\n",
       "\n",
       "       [[509.5,  29.5]],\n",
       "\n",
       "       [[569.5,  29.5]],\n",
       "\n",
       "       [[ 29.5,  89.5]],\n",
       "\n",
       "       [[ 89.5,  89.5]],\n",
       "\n",
       "       [[149.5,  89.5]],\n",
       "\n",
       "       [[209.5,  89.5]],\n",
       "\n",
       "       [[269.5,  89.5]],\n",
       "\n",
       "       [[329.5,  89.5]],\n",
       "\n",
       "       [[389.5,  89.5]],\n",
       "\n",
       "       [[449.5,  89.5]],\n",
       "\n",
       "       [[509.5,  89.5]],\n",
       "\n",
       "       [[569.5,  89.5]],\n",
       "\n",
       "       [[ 29.5, 149.5]],\n",
       "\n",
       "       [[ 89.5, 149.5]],\n",
       "\n",
       "       [[149.5, 149.5]],\n",
       "\n",
       "       [[209.5, 149.5]],\n",
       "\n",
       "       [[269.5, 149.5]],\n",
       "\n",
       "       [[329.5, 149.5]],\n",
       "\n",
       "       [[389.5, 149.5]],\n",
       "\n",
       "       [[449.5, 149.5]],\n",
       "\n",
       "       [[509.5, 149.5]],\n",
       "\n",
       "       [[569.5, 149.5]],\n",
       "\n",
       "       [[ 29.5, 209.5]],\n",
       "\n",
       "       [[ 89.5, 209.5]],\n",
       "\n",
       "       [[149.5, 209.5]],\n",
       "\n",
       "       [[209.5, 209.5]],\n",
       "\n",
       "       [[269.5, 209.5]],\n",
       "\n",
       "       [[329.5, 209.5]],\n",
       "\n",
       "       [[389.5, 209.5]],\n",
       "\n",
       "       [[449.5, 209.5]],\n",
       "\n",
       "       [[509.5, 209.5]],\n",
       "\n",
       "       [[569.5, 209.5]],\n",
       "\n",
       "       [[ 29.5, 269.5]],\n",
       "\n",
       "       [[ 89.5, 269.5]],\n",
       "\n",
       "       [[149.5, 269.5]],\n",
       "\n",
       "       [[209.5, 269.5]],\n",
       "\n",
       "       [[269.5, 269.5]],\n",
       "\n",
       "       [[329.5, 269.5]],\n",
       "\n",
       "       [[389.5, 269.5]],\n",
       "\n",
       "       [[449.5, 269.5]],\n",
       "\n",
       "       [[509.5, 269.5]],\n",
       "\n",
       "       [[569.5, 269.5]],\n",
       "\n",
       "       [[ 29.5, 329.5]],\n",
       "\n",
       "       [[ 89.5, 329.5]],\n",
       "\n",
       "       [[149.5, 329.5]],\n",
       "\n",
       "       [[209.5, 329.5]],\n",
       "\n",
       "       [[269.5, 329.5]],\n",
       "\n",
       "       [[329.5, 329.5]],\n",
       "\n",
       "       [[389.5, 329.5]],\n",
       "\n",
       "       [[449.5, 329.5]],\n",
       "\n",
       "       [[509.5, 329.5]],\n",
       "\n",
       "       [[569.5, 329.5]],\n",
       "\n",
       "       [[ 29.5, 389.5]],\n",
       "\n",
       "       [[ 89.5, 389.5]],\n",
       "\n",
       "       [[149.5, 389.5]],\n",
       "\n",
       "       [[209.5, 389.5]],\n",
       "\n",
       "       [[269.5, 389.5]],\n",
       "\n",
       "       [[329.5, 389.5]],\n",
       "\n",
       "       [[389.5, 389.5]],\n",
       "\n",
       "       [[449.5, 389.5]],\n",
       "\n",
       "       [[509.5, 389.5]],\n",
       "\n",
       "       [[569.5, 389.5]],\n",
       "\n",
       "       [[ 29.5, 449.5]],\n",
       "\n",
       "       [[ 89.5, 449.5]],\n",
       "\n",
       "       [[149.5, 449.5]],\n",
       "\n",
       "       [[209.5, 449.5]],\n",
       "\n",
       "       [[269.5, 449.5]],\n",
       "\n",
       "       [[329.5, 449.5]],\n",
       "\n",
       "       [[389.5, 449.5]],\n",
       "\n",
       "       [[449.5, 449.5]],\n",
       "\n",
       "       [[509.5, 449.5]],\n",
       "\n",
       "       [[569.5, 449.5]],\n",
       "\n",
       "       [[ 29.5, 509.5]],\n",
       "\n",
       "       [[ 89.5, 509.5]],\n",
       "\n",
       "       [[149.5, 509.5]],\n",
       "\n",
       "       [[209.5, 509.5]],\n",
       "\n",
       "       [[269.5, 509.5]],\n",
       "\n",
       "       [[329.5, 509.5]],\n",
       "\n",
       "       [[389.5, 509.5]],\n",
       "\n",
       "       [[449.5, 509.5]],\n",
       "\n",
       "       [[509.5, 509.5]],\n",
       "\n",
       "       [[569.5, 509.5]],\n",
       "\n",
       "       [[ 29.5, 569.5]],\n",
       "\n",
       "       [[ 89.5, 569.5]],\n",
       "\n",
       "       [[149.5, 569.5]],\n",
       "\n",
       "       [[209.5, 569.5]],\n",
       "\n",
       "       [[269.5, 569.5]],\n",
       "\n",
       "       [[329.5, 569.5]],\n",
       "\n",
       "       [[389.5, 569.5]],\n",
       "\n",
       "       [[449.5, 569.5]],\n",
       "\n",
       "       [[509.5, 569.5]],\n",
       "\n",
       "       [[569.5, 569.5]]], dtype=float32)"
      ]
     },
     "execution_count": 32,
     "metadata": {},
     "output_type": "execute_result"
    }
   ],
   "source": [
    "corners"
   ]
  },
  {
   "cell_type": "code",
   "execution_count": 33,
   "metadata": {},
   "outputs": [
    {
     "data": {
      "text/plain": [
       "array([[[255, 255, 255],\n",
       "        [255, 255, 255],\n",
       "        [255, 255, 255],\n",
       "        ...,\n",
       "        [255, 255, 255],\n",
       "        [255, 255, 255],\n",
       "        [255, 255, 255]],\n",
       "\n",
       "       [[255, 255, 255],\n",
       "        [255, 255, 255],\n",
       "        [255, 255, 255],\n",
       "        ...,\n",
       "        [255, 255, 255],\n",
       "        [255, 255, 255],\n",
       "        [255, 255, 255]],\n",
       "\n",
       "       [[255, 255, 255],\n",
       "        [255, 255, 255],\n",
       "        [255, 255, 255],\n",
       "        ...,\n",
       "        [255, 255, 255],\n",
       "        [255, 255, 255],\n",
       "        [255, 255, 255]],\n",
       "\n",
       "       ...,\n",
       "\n",
       "       [[255, 255, 255],\n",
       "        [255, 255, 255],\n",
       "        [255, 255, 255],\n",
       "        ...,\n",
       "        [255, 255, 255],\n",
       "        [255, 255, 255],\n",
       "        [255, 255, 255]],\n",
       "\n",
       "       [[255, 255, 255],\n",
       "        [255, 255, 255],\n",
       "        [255, 255, 255],\n",
       "        ...,\n",
       "        [255, 255, 255],\n",
       "        [255, 255, 255],\n",
       "        [255, 255, 255]],\n",
       "\n",
       "       [[255, 255, 255],\n",
       "        [255, 255, 255],\n",
       "        [255, 255, 255],\n",
       "        ...,\n",
       "        [255, 255, 255],\n",
       "        [255, 255, 255],\n",
       "        [255, 255, 255]]], dtype=uint8)"
      ]
     },
     "execution_count": 33,
     "metadata": {},
     "output_type": "execute_result"
    }
   ],
   "source": [
    "cv2.drawChessboardCorners(dots,(10,10),corners,found)"
   ]
  },
  {
   "cell_type": "code",
   "execution_count": 34,
   "metadata": {},
   "outputs": [
    {
     "data": {
      "text/plain": [
       "<matplotlib.image.AxesImage at 0x1e0ea678cf8>"
      ]
     },
     "execution_count": 34,
     "metadata": {},
     "output_type": "execute_result"
    },
    {
     "data": {
      "image/png": "[encoded data removed]",
      "text/plain": [
       "<Figure size 432x288 with 1 Axes>"
      ]
     },
     "metadata": {
      "needs_background": "light"
     },
     "output_type": "display_data"
    }
   ],
   "source": [
    "plt.imshow(dots)"
   ]
  },
  {
   "cell_type": "code",
   "execution_count": null,
   "metadata": {},
   "outputs": [],
   "source": []
  }
 ],
 "metadata": {
  "kernelspec": {
   "display_name": "Python 3",
   "language": "python",
   "name": "python3"
  },
  "language_info": {
   "codemirror_mode": {
    "name": "ipython",
    "version": 3
   },
   "file_extension": ".py",
   "mimetype": "text/x-python",
   "name": "python",
   "nbconvert_exporter": "python",
   "pygments_lexer": "ipython3",
   "version": "3.7.3"
  }
 },
 "nbformat": 4,
 "nbformat_minor": 2
}

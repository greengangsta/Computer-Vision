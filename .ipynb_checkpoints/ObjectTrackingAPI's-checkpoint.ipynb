{
 "cells": [
  {
   "cell_type": "code",
   "execution_count": 7,
   "metadata": {},
   "outputs": [],
   "source": [
    "import cv2\n",
    "import numpy as np"
   ]
  },
  {
   "cell_type": "code",
   "execution_count": 8,
   "metadata": {},
   "outputs": [],
   "source": [
    "def ask_for_tracker():\n",
    "    print('Welcome, what Tracker would you like to use?')\n",
    "    print('Enter 0 for boosting')\n",
    "    print('Enter 1 for MIL')\n",
    "    print('Enter 2 for KCF')\n",
    "    print('Enter 3 for TLD')\n",
    "    print('Enter 4 for MedianFlow')\n",
    "    choice = input('Please select your tracker : ')\n",
    "    if choice == '0':\n",
    "          tracker = cv2.TrackerBoosting_create()\n",
    "    if choice == '1':\n",
    "          tracker = cv2.TrackerMIL_create()\n",
    "    if choice == '2':\n",
    "          tracker = cv2.TrackerKCF_create()\n",
    "    if choice == '3':\n",
    "          tracker = cv2.TrackerTLD_create()\n",
    "    if choice == '4':\n",
    "          tracker = cv2.TrackerMedianFlow_create()\n",
    "    \n",
    "    return tracker\n",
    "    "
   ]
  },
  {
   "cell_type": "code",
   "execution_count": 9,
   "metadata": {},
   "outputs": [
    {
     "name": "stdout",
     "output_type": "stream",
     "text": [
      "Welcome, what Tracker would you like to use?\n",
      "Enter 0 for boosting\n",
      "Enter 1 for MIL\n",
      "Enter 2 for KCF\n",
      "Enter 3 for TLD\n",
      "Enter 4 for MedianFlow\n",
      "Please select your tracker : 1\n"
     ]
    }
   ],
   "source": [
    "tracker = ask_for_tracker()"
   ]
  },
  {
   "cell_type": "code",
   "execution_count": 10,
   "metadata": {},
   "outputs": [
    {
     "data": {
      "text/plain": [
       "'TrackerMIL'"
      ]
     },
     "execution_count": 10,
     "metadata": {},
     "output_type": "execute_result"
    }
   ],
   "source": [
    "str(tracker).split()[0][1:]"
   ]
  },
  {
   "cell_type": "code",
   "execution_count": 6,
   "metadata": {},
   "outputs": [
    {
     "name": "stdout",
     "output_type": "stream",
     "text": [
      "Welcome, what Tracker would you like to use?\n",
      "Enter 0 for boosting\n",
      "Enter 1 for MIL\n",
      "Enter 2 for KCF\n",
      "Enter 3 for TLD\n",
      "Enter 4 for MedianFlow\n",
      "Please select your tracker : 0\n"
     ]
    }
   ],
   "source": [
    "tracker = ask_for_tracker()\n",
    "\n",
    "tracker_name = str(tracker).split()[0][1:]\n",
    "\n",
    "cap = cv2.VideoCapture(0)\n",
    "\n",
    "ret, frame = cap.read()\n",
    "\n",
    "roi = cv2.selectROI(frame,False)\n",
    "\n",
    "ret = tracker.init(frame,roi)\n",
    "\n",
    "while True:\n",
    "    \n",
    "    ret, frame = cap.read()\n",
    "    \n",
    "    success, roi = tracker.update(frame)\n",
    "    \n",
    "    (x,y,w,h) = tuple(map(int,roi))\n",
    "    \n",
    "    if success:\n",
    "        \n",
    "        p1 = (x,y)\n",
    "        p2 = (x+w,y+h)\n",
    "        cv2.rectangle(frame,p1,p2,(0,0,255),5)\n",
    "    else :\n",
    "        \n",
    "        cv2.putText(frame,\"Failure to detect tracking\",(100,200),cv2.FONT_HERSHEY_SIMPLEX,1,(0,0,255),3);\n",
    "    \n",
    "    cv2.putText(frame,tracker_name,(20,400),cv2.FONT_HERSHEY_SIMPLEX,1,(0,255,0),3);\n",
    "    \n",
    "    cv2.imshow(tracker_name,frame)\n",
    "    \n",
    "    k = cv2.waitKey(1) & 0xff\n",
    "    \n",
    "    if k == 27:\n",
    "        break\n",
    "        \n",
    "cap.release()\n",
    "cv2.destroyAllWindows()"
   ]
  },
  {
   "cell_type": "code",
   "execution_count": null,
   "metadata": {},
   "outputs": [],
   "source": []
  }
 ],
 "metadata": {
  "kernelspec": {
   "display_name": "Python 3",
   "language": "python",
   "name": "python3"
  },
  "language_info": {
   "codemirror_mode": {
    "name": "ipython",
    "version": 3
   },
   "file_extension": ".py",
   "mimetype": "text/x-python",
   "name": "python",
   "nbconvert_exporter": "python",
   "pygments_lexer": "ipython3",
   "version": "3.6.8"
  }
 },
 "nbformat": 4,
 "nbformat_minor": 2
}
